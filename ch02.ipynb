{
 "metadata": {
  "name": ""
 },
 "nbformat": 3,
 "nbformat_minor": 0,
 "worksheets": [
  {
   "cells": [
    {
     "cell_type": "code",
     "collapsed": false,
     "input": [
      "import json\n",
      "path = 'ch02/usagov_bitly_data2012-03-16-1331923249.txt'\n",
      "#open(path).readline()\n",
      "records = [json.loads(line) for line in open(path)]\n",
      "#records"
     ],
     "language": "python",
     "metadata": {},
     "outputs": [],
     "prompt_number": 1
    },
    {
     "cell_type": "code",
     "collapsed": false,
     "input": [
      "from pandas import DataFrame, Series\n",
      "import pandas as pd\n",
      "frame = DataFrame(records)"
     ],
     "language": "python",
     "metadata": {},
     "outputs": [],
     "prompt_number": 2
    },
    {
     "cell_type": "code",
     "collapsed": false,
     "input": [
      "tz_counts = frame.tz.value_counts()"
     ],
     "language": "python",
     "metadata": {},
     "outputs": [],
     "prompt_number": 3
    },
    {
     "cell_type": "code",
     "collapsed": false,
     "input": [
      "clean_tz = frame['tz'].fillna('Missing')\n",
      "#clean_tz"
     ],
     "language": "python",
     "metadata": {},
     "outputs": [],
     "prompt_number": 4
    },
    {
     "cell_type": "code",
     "collapsed": false,
     "input": [
      "clean_tz[clean_tz==''] = 'Unknown'\n",
      "#clean_tz"
     ],
     "language": "python",
     "metadata": {},
     "outputs": [],
     "prompt_number": 5
    },
    {
     "cell_type": "code",
     "collapsed": false,
     "input": [
      "tz_counts = clean_tz.value_counts()\n",
      "tz_counts[0:10].plot(kind='barh', rot=0)"
     ],
     "language": "python",
     "metadata": {},
     "outputs": [
      {
       "metadata": {},
       "output_type": "pyout",
       "prompt_number": 6,
       "text": [
        "<matplotlib.axes.AxesSubplot at 0x89d1870>"
       ]
      }
     ],
     "prompt_number": 6
    },
    {
     "cell_type": "code",
     "collapsed": false,
     "input": [
      "frame.a[0]"
     ],
     "language": "python",
     "metadata": {},
     "outputs": [
      {
       "metadata": {},
       "output_type": "pyout",
       "prompt_number": 7,
       "text": [
        "u'Mozilla/5.0 (Windows NT 6.1; WOW64) AppleWebKit/535.11 (KHTML, like Gecko) Chrome/17.0.963.78 Safari/535.11'"
       ]
      }
     ],
     "prompt_number": 7
    },
    {
     "cell_type": "code",
     "collapsed": false,
     "input": [
      "results = Series([x.split()[0] for x in frame.a.dropna()])\n",
      "results.value_counts()[:8]"
     ],
     "language": "python",
     "metadata": {},
     "outputs": [
      {
       "metadata": {},
       "output_type": "pyout",
       "prompt_number": 8,
       "text": [
        "Mozilla/5.0                 2594\n",
        "Mozilla/4.0                  601\n",
        "GoogleMaps/RochesterNY       121\n",
        "Opera/9.80                    34\n",
        "TEST_INTERNET_AGENT           24\n",
        "GoogleProducer                21\n",
        "Mozilla/6.0                    5\n",
        "BlackBerry8520/5.0.0.681       4\n",
        "dtype: int64"
       ]
      }
     ],
     "prompt_number": 8
    },
    {
     "cell_type": "code",
     "collapsed": false,
     "input": [
      "cframe = frame[frame.a.notnull()]"
     ],
     "language": "python",
     "metadata": {},
     "outputs": [],
     "prompt_number": 9
    },
    {
     "cell_type": "code",
     "collapsed": false,
     "input": [
      "import numpy as np\n",
      "operating_system = np.where(cframe.a.str.contains('Windows'), 'Windows', 'Not Windows')"
     ],
     "language": "python",
     "metadata": {},
     "outputs": [],
     "prompt_number": 10
    },
    {
     "cell_type": "code",
     "collapsed": false,
     "input": [
      "by_tz_os = cframe.groupby(['tz', operating_system])"
     ],
     "language": "python",
     "metadata": {},
     "outputs": [],
     "prompt_number": 11
    },
    {
     "cell_type": "code",
     "collapsed": false,
     "input": [
      "# page 24\n",
      "agg_counts = by_tz_os.size().unstack().fillna(0)\n",
      "agg_counts[:10]"
     ],
     "language": "python",
     "metadata": {},
     "outputs": [
      {
       "html": [
        "<div style=\"max-height:1000px;max-width:1500px;overflow:auto;\">\n",
        "<table border=\"1\" class=\"dataframe\">\n",
        "  <thead>\n",
        "    <tr style=\"text-align: right;\">\n",
        "      <th>a</th>\n",
        "      <th>Not Windows</th>\n",
        "      <th>Windows</th>\n",
        "    </tr>\n",
        "    <tr>\n",
        "      <th>tz</th>\n",
        "      <th></th>\n",
        "      <th></th>\n",
        "    </tr>\n",
        "  </thead>\n",
        "  <tbody>\n",
        "    <tr>\n",
        "      <th></th>\n",
        "      <td> 245</td>\n",
        "      <td> 276</td>\n",
        "    </tr>\n",
        "    <tr>\n",
        "      <th>Africa/Cairo</th>\n",
        "      <td>   0</td>\n",
        "      <td>   3</td>\n",
        "    </tr>\n",
        "    <tr>\n",
        "      <th>Africa/Casablanca</th>\n",
        "      <td>   0</td>\n",
        "      <td>   1</td>\n",
        "    </tr>\n",
        "    <tr>\n",
        "      <th>Africa/Ceuta</th>\n",
        "      <td>   0</td>\n",
        "      <td>   2</td>\n",
        "    </tr>\n",
        "    <tr>\n",
        "      <th>Africa/Johannesburg</th>\n",
        "      <td>   0</td>\n",
        "      <td>   1</td>\n",
        "    </tr>\n",
        "    <tr>\n",
        "      <th>Africa/Lusaka</th>\n",
        "      <td>   0</td>\n",
        "      <td>   1</td>\n",
        "    </tr>\n",
        "    <tr>\n",
        "      <th>America/Anchorage</th>\n",
        "      <td>   4</td>\n",
        "      <td>   1</td>\n",
        "    </tr>\n",
        "    <tr>\n",
        "      <th>America/Argentina/Buenos_Aires</th>\n",
        "      <td>   1</td>\n",
        "      <td>   0</td>\n",
        "    </tr>\n",
        "    <tr>\n",
        "      <th>America/Argentina/Cordoba</th>\n",
        "      <td>   0</td>\n",
        "      <td>   1</td>\n",
        "    </tr>\n",
        "    <tr>\n",
        "      <th>America/Argentina/Mendoza</th>\n",
        "      <td>   0</td>\n",
        "      <td>   1</td>\n",
        "    </tr>\n",
        "  </tbody>\n",
        "</table>\n",
        "</div>"
       ],
       "metadata": {},
       "output_type": "pyout",
       "prompt_number": 119,
       "text": [
        "a                               Not Windows  Windows\n",
        "tz                                                  \n",
        "                                        245      276\n",
        "Africa/Cairo                              0        3\n",
        "Africa/Casablanca                         0        1\n",
        "Africa/Ceuta                              0        2\n",
        "Africa/Johannesburg                       0        1\n",
        "Africa/Lusaka                             0        1\n",
        "America/Anchorage                         4        1\n",
        "America/Argentina/Buenos_Aires            1        0\n",
        "America/Argentina/Cordoba                 0        1\n",
        "America/Argentina/Mendoza                 0        1"
       ]
      }
     ],
     "prompt_number": 119
    },
    {
     "cell_type": "code",
     "collapsed": false,
     "input": [],
     "language": "python",
     "metadata": {},
     "outputs": []
    }
   ],
   "metadata": {}
  }
 ]
}